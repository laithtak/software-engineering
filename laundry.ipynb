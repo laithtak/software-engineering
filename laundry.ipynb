{
 "cells": [
  {
   "cell_type": "code",
   "execution_count": 4,
   "metadata": {},
   "outputs": [
    {
     "name": "stdout",
     "output_type": "stream",
     "text": [
      "Collecting scikit-learn\n",
      "  Obtaining dependency information for scikit-learn from https://files.pythonhosted.org/packages/4e/ba/ce9bd1cd4953336a0e213b29cb80bb11816f2a93de8c99f88ef0b446ad0c/scikit_learn-1.3.2-cp311-cp311-win_amd64.whl.metadata\n",
      "  Downloading scikit_learn-1.3.2-cp311-cp311-win_amd64.whl.metadata (11 kB)\n",
      "Requirement already satisfied: numpy<2.0,>=1.17.3 in c:\\users\\c-road\\appdata\\local\\packages\\pythonsoftwarefoundation.python.3.11_qbz5n2kfra8p0\\localcache\\local-packages\\python311\\site-packages (from scikit-learn) (1.25.2)\n",
      "Requirement already satisfied: scipy>=1.5.0 in c:\\users\\c-road\\appdata\\local\\packages\\pythonsoftwarefoundation.python.3.11_qbz5n2kfra8p0\\localcache\\local-packages\\python311\\site-packages (from scikit-learn) (1.11.4)\n",
      "Collecting joblib>=1.1.1 (from scikit-learn)\n",
      "  Obtaining dependency information for joblib>=1.1.1 from https://files.pythonhosted.org/packages/10/40/d551139c85db202f1f384ba8bcf96aca2f329440a844f924c8a0040b6d02/joblib-1.3.2-py3-none-any.whl.metadata\n",
      "  Downloading joblib-1.3.2-py3-none-any.whl.metadata (5.4 kB)\n",
      "Collecting threadpoolctl>=2.0.0 (from scikit-learn)\n",
      "  Obtaining dependency information for threadpoolctl>=2.0.0 from https://files.pythonhosted.org/packages/81/12/fd4dea011af9d69e1cad05c75f3f7202cdcbeac9b712eea58ca779a72865/threadpoolctl-3.2.0-py3-none-any.whl.metadata\n",
      "  Using cached threadpoolctl-3.2.0-py3-none-any.whl.metadata (10.0 kB)\n",
      "Downloading scikit_learn-1.3.2-cp311-cp311-win_amd64.whl (9.2 MB)\n",
      "   ---------------------------------------- 0.0/9.2 MB ? eta -:--:--\n",
      "   ---------------------------------------- 0.0/9.2 MB ? eta -:--:--\n",
      "   ---------------------------------------- 0.0/9.2 MB 435.7 kB/s eta 0:00:22\n",
      "   ---------------------------------------- 0.0/9.2 MB 393.8 kB/s eta 0:00:24\n",
      "   ---------------------------------------- 0.1/9.2 MB 365.7 kB/s eta 0:00:26\n",
      "   ---------------------------------------- 0.1/9.2 MB 416.7 kB/s eta 0:00:22\n",
      "   ---------------------------------------- 0.1/9.2 MB 469.7 kB/s eta 0:00:20\n",
      "   ---------------------------------------- 0.1/9.2 MB 469.7 kB/s eta 0:00:20\n",
      "    --------------------------------------- 0.1/9.2 MB 426.7 kB/s eta 0:00:22\n",
      "    --------------------------------------- 0.2/9.2 MB 491.5 kB/s eta 0:00:19\n",
      "   - -------------------------------------- 0.3/9.2 MB 582.4 kB/s eta 0:00:16\n",
      "   - -------------------------------------- 0.3/9.2 MB 609.2 kB/s eta 0:00:15\n",
      "   - -------------------------------------- 0.3/9.2 MB 616.4 kB/s eta 0:00:15\n",
      "   - -------------------------------------- 0.4/9.2 MB 655.2 kB/s eta 0:00:14\n",
      "   - -------------------------------------- 0.5/9.2 MB 723.0 kB/s eta 0:00:13\n",
      "   -- ------------------------------------- 0.5/9.2 MB 749.3 kB/s eta 0:00:12\n",
      "   -- ------------------------------------- 0.6/9.2 MB 801.1 kB/s eta 0:00:11\n",
      "   -- ------------------------------------- 0.6/9.2 MB 823.1 kB/s eta 0:00:11\n",
      "   --- ------------------------------------ 0.7/9.2 MB 860.8 kB/s eta 0:00:10\n",
      "   --- ------------------------------------ 0.7/9.2 MB 838.1 kB/s eta 0:00:11\n",
      "   --- ------------------------------------ 0.8/9.2 MB 885.9 kB/s eta 0:00:10\n",
      "   --- ------------------------------------ 0.8/9.2 MB 892.9 kB/s eta 0:00:10\n",
      "   --- ------------------------------------ 0.8/9.2 MB 892.9 kB/s eta 0:00:10\n",
      "   --- ------------------------------------ 0.8/9.2 MB 804.5 kB/s eta 0:00:11\n",
      "   --- ------------------------------------ 0.9/9.2 MB 807.4 kB/s eta 0:00:11\n",
      "   ---- ----------------------------------- 1.0/9.2 MB 835.4 kB/s eta 0:00:10\n",
      "   ---- ----------------------------------- 1.0/9.2 MB 873.7 kB/s eta 0:00:10\n",
      "   ---- ----------------------------------- 1.0/9.2 MB 849.1 kB/s eta 0:00:10\n",
      "   ---- ----------------------------------- 1.1/9.2 MB 898.5 kB/s eta 0:00:09\n",
      "   ----- ---------------------------------- 1.2/9.2 MB 874.1 kB/s eta 0:00:10\n",
      "   ----- ---------------------------------- 1.2/9.2 MB 881.6 kB/s eta 0:00:10\n",
      "   ----- ---------------------------------- 1.3/9.2 MB 888.5 kB/s eta 0:00:09\n",
      "   ----- ---------------------------------- 1.3/9.2 MB 880.9 kB/s eta 0:00:09\n",
      "   ----- ---------------------------------- 1.4/9.2 MB 901.1 kB/s eta 0:00:09\n",
      "   ------ --------------------------------- 1.4/9.2 MB 913.5 kB/s eta 0:00:09\n",
      "   ------ --------------------------------- 1.4/9.2 MB 913.5 kB/s eta 0:00:09\n",
      "   ------ --------------------------------- 1.5/9.2 MB 888.5 kB/s eta 0:00:09\n",
      "   ------ --------------------------------- 1.5/9.2 MB 874.1 kB/s eta 0:00:09\n",
      "   ------ --------------------------------- 1.6/9.2 MB 906.0 kB/s eta 0:00:09\n",
      "   ------- -------------------------------- 1.6/9.2 MB 902.7 kB/s eta 0:00:09\n",
      "   ------- -------------------------------- 1.6/9.2 MB 902.7 kB/s eta 0:00:09\n",
      "   ------- -------------------------------- 1.7/9.2 MB 884.7 kB/s eta 0:00:09\n",
      "   ------- -------------------------------- 1.8/9.2 MB 898.7 kB/s eta 0:00:09\n",
      "   ------- -------------------------------- 1.8/9.2 MB 912.3 kB/s eta 0:00:09\n",
      "   -------- ------------------------------- 1.9/9.2 MB 924.9 kB/s eta 0:00:08\n",
      "   -------- ------------------------------- 1.9/9.2 MB 920.4 kB/s eta 0:00:08\n",
      "   -------- ------------------------------- 2.0/9.2 MB 929.6 kB/s eta 0:00:08\n",
      "   -------- ------------------------------- 2.0/9.2 MB 916.7 kB/s eta 0:00:08\n",
      "   -------- ------------------------------- 2.0/9.2 MB 925.0 kB/s eta 0:00:08\n",
      "   --------- ------------------------------ 2.1/9.2 MB 944.2 kB/s eta 0:00:08\n",
      "   --------- ------------------------------ 2.2/9.2 MB 940.6 kB/s eta 0:00:08\n",
      "   --------- ------------------------------ 2.3/9.2 MB 970.2 kB/s eta 0:00:08\n",
      "   ---------- ----------------------------- 2.4/9.2 MB 998.3 kB/s eta 0:00:07\n",
      "   ---------- ----------------------------- 2.4/9.2 MB 1.0 MB/s eta 0:00:07\n",
      "   ----------- ---------------------------- 2.6/9.2 MB 1.0 MB/s eta 0:00:07\n",
      "   ----------- ---------------------------- 2.6/9.2 MB 1.0 MB/s eta 0:00:07\n",
      "   ----------- ---------------------------- 2.7/9.2 MB 1.1 MB/s eta 0:00:07\n",
      "   ------------ --------------------------- 2.8/9.2 MB 1.1 MB/s eta 0:00:06\n",
      "   ------------ --------------------------- 2.9/9.2 MB 1.1 MB/s eta 0:00:06\n",
      "   ------------ --------------------------- 3.0/9.2 MB 1.1 MB/s eta 0:00:06\n",
      "   ------------- -------------------------- 3.0/9.2 MB 1.1 MB/s eta 0:00:06\n",
      "   ------------- -------------------------- 3.1/9.2 MB 1.1 MB/s eta 0:00:06\n",
      "   -------------- ------------------------- 3.2/9.2 MB 1.1 MB/s eta 0:00:06\n",
      "   -------------- ------------------------- 3.3/9.2 MB 1.1 MB/s eta 0:00:06\n",
      "   -------------- ------------------------- 3.4/9.2 MB 1.2 MB/s eta 0:00:06\n",
      "   --------------- ------------------------ 3.5/9.2 MB 1.2 MB/s eta 0:00:05\n",
      "   --------------- ------------------------ 3.7/9.2 MB 1.2 MB/s eta 0:00:05\n",
      "   ---------------- ----------------------- 3.8/9.2 MB 1.2 MB/s eta 0:00:05\n",
      "   ---------------- ----------------------- 3.9/9.2 MB 1.2 MB/s eta 0:00:05\n",
      "   ----------------- ---------------------- 4.0/9.2 MB 1.3 MB/s eta 0:00:05\n",
      "   ----------------- ---------------------- 4.1/9.2 MB 1.3 MB/s eta 0:00:05\n",
      "   ------------------ --------------------- 4.3/9.2 MB 1.3 MB/s eta 0:00:04\n",
      "   ------------------- -------------------- 4.4/9.2 MB 1.3 MB/s eta 0:00:04\n",
      "   ------------------- -------------------- 4.6/9.2 MB 1.4 MB/s eta 0:00:04\n",
      "   -------------------- ------------------- 4.7/9.2 MB 1.4 MB/s eta 0:00:04\n",
      "   -------------------- ------------------- 4.8/9.2 MB 1.4 MB/s eta 0:00:04\n",
      "   --------------------- ------------------ 5.0/9.2 MB 1.4 MB/s eta 0:00:03\n",
      "   ---------------------- ----------------- 5.2/9.2 MB 1.5 MB/s eta 0:00:03\n",
      "   ----------------------- ---------------- 5.3/9.2 MB 1.5 MB/s eta 0:00:03\n",
      "   ----------------------- ---------------- 5.5/9.2 MB 1.5 MB/s eta 0:00:03\n",
      "   ------------------------ --------------- 5.6/9.2 MB 1.5 MB/s eta 0:00:03\n",
      "   ------------------------ --------------- 5.6/9.2 MB 1.5 MB/s eta 0:00:03\n",
      "   ------------------------- -------------- 5.8/9.2 MB 1.5 MB/s eta 0:00:03\n",
      "   ------------------------- -------------- 5.9/9.2 MB 1.5 MB/s eta 0:00:03\n",
      "   -------------------------- ------------- 6.1/9.2 MB 1.6 MB/s eta 0:00:03\n",
      "   -------------------------- ------------- 6.2/9.2 MB 1.6 MB/s eta 0:00:02\n",
      "   --------------------------- ------------ 6.2/9.2 MB 1.6 MB/s eta 0:00:02\n",
      "   --------------------------- ------------ 6.3/9.2 MB 1.6 MB/s eta 0:00:02\n",
      "   ---------------------------- ----------- 6.5/9.2 MB 1.6 MB/s eta 0:00:02\n",
      "   ---------------------------- ----------- 6.6/9.2 MB 1.6 MB/s eta 0:00:02\n",
      "   ---------------------------- ----------- 6.7/9.2 MB 1.6 MB/s eta 0:00:02\n",
      "   ---------------------------- ----------- 6.7/9.2 MB 1.6 MB/s eta 0:00:02\n",
      "   ----------------------------- ---------- 6.7/9.2 MB 1.6 MB/s eta 0:00:02\n",
      "   ----------------------------- ---------- 6.7/9.2 MB 1.6 MB/s eta 0:00:02\n",
      "   ----------------------------- ---------- 6.7/9.2 MB 1.5 MB/s eta 0:00:02\n",
      "   ----------------------------- ---------- 6.8/9.2 MB 1.5 MB/s eta 0:00:02\n",
      "   ----------------------------- ---------- 6.8/9.2 MB 1.5 MB/s eta 0:00:02\n",
      "   ----------------------------- ---------- 6.9/9.2 MB 1.5 MB/s eta 0:00:02\n",
      "   ------------------------------ --------- 7.0/9.2 MB 1.5 MB/s eta 0:00:02\n",
      "   ------------------------------ --------- 7.1/9.2 MB 1.5 MB/s eta 0:00:02\n",
      "   ------------------------------ --------- 7.1/9.2 MB 1.5 MB/s eta 0:00:02\n",
      "   ------------------------------- -------- 7.2/9.2 MB 1.5 MB/s eta 0:00:02\n",
      "   ------------------------------- -------- 7.2/9.2 MB 1.5 MB/s eta 0:00:02\n",
      "   -------------------------------- ------- 7.5/9.2 MB 1.6 MB/s eta 0:00:02\n",
      "   -------------------------------- ------- 7.5/9.2 MB 1.6 MB/s eta 0:00:02\n",
      "   --------------------------------- ------ 7.6/9.2 MB 1.6 MB/s eta 0:00:02\n",
      "   --------------------------------- ------ 7.8/9.2 MB 1.6 MB/s eta 0:00:01\n",
      "   ---------------------------------- ----- 7.9/9.2 MB 1.6 MB/s eta 0:00:01\n",
      "   ---------------------------------- ----- 8.0/9.2 MB 1.6 MB/s eta 0:00:01\n",
      "   ----------------------------------- ---- 8.2/9.2 MB 1.6 MB/s eta 0:00:01\n",
      "   ------------------------------------ --- 8.4/9.2 MB 1.6 MB/s eta 0:00:01\n",
      "   ------------------------------------ --- 8.5/9.2 MB 1.6 MB/s eta 0:00:01\n",
      "   ------------------------------------- -- 8.6/9.2 MB 1.7 MB/s eta 0:00:01\n",
      "   ------------------------------------- -- 8.7/9.2 MB 1.7 MB/s eta 0:00:01\n",
      "   -------------------------------------- - 8.8/9.2 MB 1.7 MB/s eta 0:00:01\n",
      "   -------------------------------------- - 8.9/9.2 MB 1.7 MB/s eta 0:00:01\n",
      "   ---------------------------------------  9.1/9.2 MB 1.7 MB/s eta 0:00:01\n",
      "   ---------------------------------------  9.2/9.2 MB 1.7 MB/s eta 0:00:01\n",
      "   ---------------------------------------- 9.2/9.2 MB 1.7 MB/s eta 0:00:00\n",
      "Downloading joblib-1.3.2-py3-none-any.whl (302 kB)\n",
      "   ---------------------------------------- 0.0/302.2 kB ? eta -:--:--\n",
      "   --------- ------------------------------ 71.7/302.2 kB 2.0 MB/s eta 0:00:01\n",
      "   ----------------------- ---------------- 174.1/302.2 kB 2.6 MB/s eta 0:00:01\n",
      "   ---------------------------------------  297.0/302.2 kB 2.3 MB/s eta 0:00:01\n",
      "   ---------------------------------------- 302.2/302.2 kB 2.1 MB/s eta 0:00:00\n",
      "Using cached threadpoolctl-3.2.0-py3-none-any.whl (15 kB)\n",
      "Installing collected packages: threadpoolctl, joblib, scikit-learn\n",
      "Successfully installed joblib-1.3.2 scikit-learn-1.3.2 threadpoolctl-3.2.0\n"
     ]
    },
    {
     "name": "stderr",
     "output_type": "stream",
     "text": [
      "\n",
      "[notice] A new release of pip is available: 23.2.1 -> 23.3.2\n",
      "[notice] To update, run: C:\\Users\\C-ROAD\\AppData\\Local\\Microsoft\\WindowsApps\\PythonSoftwareFoundation.Python.3.11_qbz5n2kfra8p0\\python.exe -m pip install --upgrade pip\n"
     ]
    }
   ],
   "source": [
    "!pip install scikit-learn"
   ]
  },
  {
   "cell_type": "code",
   "execution_count": 1,
   "metadata": {},
   "outputs": [],
   "source": [
    "import sklearn\n",
    "assert sklearn.__version__ >= \"0.20\"\n",
    "\n",
    "%matplotlib inline\n",
    "import matplotlib as mpl\n",
    "import matplotlib.pyplot as plt\n",
    "mpl.rc('axes', labelsize=14)\n",
    "mpl.rc('xtick', labelsize=12)\n",
    "mpl.rc('ytick', labelsize=12)\n",
    "\n",
    "import pandas as pd\n",
    "import numpy as np\n",
    "import matplotlib.pyplot as plt"
   ]
  },
  {
   "cell_type": "code",
   "execution_count": 3,
   "metadata": {},
   "outputs": [],
   "source": [
    "np.random.seed(104) #any number can be used"
   ]
  },
  {
   "cell_type": "code",
   "execution_count": 2,
   "metadata": {},
   "outputs": [],
   "source": [
    "laundry = pd.read_csv('transactions.csv')"
   ]
  },
  {
   "cell_type": "code",
   "execution_count": 4,
   "metadata": {},
   "outputs": [
    {
     "data": {
      "text/html": [
       "<div>\n",
       "<style scoped>\n",
       "    .dataframe tbody tr th:only-of-type {\n",
       "        vertical-align: middle;\n",
       "    }\n",
       "\n",
       "    .dataframe tbody tr th {\n",
       "        vertical-align: top;\n",
       "    }\n",
       "\n",
       "    .dataframe thead th {\n",
       "        text-align: right;\n",
       "    }\n",
       "</style>\n",
       "<table border=\"1\" class=\"dataframe\">\n",
       "  <thead>\n",
       "    <tr style=\"text-align: right;\">\n",
       "      <th></th>\n",
       "      <th>TX_ID</th>\n",
       "      <th>SENDER_ACCOUNT_ID</th>\n",
       "      <th>RECEIVER_ACCOUNT_ID</th>\n",
       "      <th>TX_TYPE</th>\n",
       "      <th>TX_AMOUNT</th>\n",
       "      <th>TIMESTAMP</th>\n",
       "      <th>IS_FRAUD</th>\n",
       "      <th>ALERT_ID</th>\n",
       "    </tr>\n",
       "  </thead>\n",
       "  <tbody>\n",
       "    <tr>\n",
       "      <th>0</th>\n",
       "      <td>1</td>\n",
       "      <td>6456</td>\n",
       "      <td>9069</td>\n",
       "      <td>TRANSFER</td>\n",
       "      <td>465.05</td>\n",
       "      <td>0</td>\n",
       "      <td>False</td>\n",
       "      <td>-1</td>\n",
       "    </tr>\n",
       "    <tr>\n",
       "      <th>1</th>\n",
       "      <td>2</td>\n",
       "      <td>7516</td>\n",
       "      <td>9543</td>\n",
       "      <td>TRANSFER</td>\n",
       "      <td>564.64</td>\n",
       "      <td>0</td>\n",
       "      <td>False</td>\n",
       "      <td>-1</td>\n",
       "    </tr>\n",
       "    <tr>\n",
       "      <th>2</th>\n",
       "      <td>3</td>\n",
       "      <td>2445</td>\n",
       "      <td>9356</td>\n",
       "      <td>TRANSFER</td>\n",
       "      <td>598.94</td>\n",
       "      <td>0</td>\n",
       "      <td>False</td>\n",
       "      <td>-1</td>\n",
       "    </tr>\n",
       "    <tr>\n",
       "      <th>3</th>\n",
       "      <td>4</td>\n",
       "      <td>2576</td>\n",
       "      <td>4617</td>\n",
       "      <td>TRANSFER</td>\n",
       "      <td>466.07</td>\n",
       "      <td>0</td>\n",
       "      <td>False</td>\n",
       "      <td>-1</td>\n",
       "    </tr>\n",
       "    <tr>\n",
       "      <th>4</th>\n",
       "      <td>5</td>\n",
       "      <td>3524</td>\n",
       "      <td>1773</td>\n",
       "      <td>TRANSFER</td>\n",
       "      <td>405.63</td>\n",
       "      <td>0</td>\n",
       "      <td>False</td>\n",
       "      <td>-1</td>\n",
       "    </tr>\n",
       "  </tbody>\n",
       "</table>\n",
       "</div>"
      ],
      "text/plain": [
       "   TX_ID  SENDER_ACCOUNT_ID  RECEIVER_ACCOUNT_ID   TX_TYPE  TX_AMOUNT  \\\n",
       "0      1               6456                 9069  TRANSFER     465.05   \n",
       "1      2               7516                 9543  TRANSFER     564.64   \n",
       "2      3               2445                 9356  TRANSFER     598.94   \n",
       "3      4               2576                 4617  TRANSFER     466.07   \n",
       "4      5               3524                 1773  TRANSFER     405.63   \n",
       "\n",
       "   TIMESTAMP  IS_FRAUD  ALERT_ID  \n",
       "0          0     False        -1  \n",
       "1          0     False        -1  \n",
       "2          0     False        -1  \n",
       "3          0     False        -1  \n",
       "4          0     False        -1  "
      ]
     },
     "execution_count": 4,
     "metadata": {},
     "output_type": "execute_result"
    }
   ],
   "source": [
    "laundry.head()"
   ]
  },
  {
   "cell_type": "code",
   "execution_count": 7,
   "metadata": {},
   "outputs": [],
   "source": [
    "frauds = laundry[\"IS_FRAUD\"].value_counts()"
   ]
  },
  {
   "cell_type": "code",
   "execution_count": 8,
   "metadata": {},
   "outputs": [
    {
     "data": {
      "image/png": "[encoded data removed]",
      "text/plain": [
       "<Figure size 640x480 with 1 Axes>"
      ]
     },
     "metadata": {},
     "output_type": "display_data"
    }
   ],
   "source": [
    "# Plotting the pie chart\n",
    "plt.pie(frauds, labels=frauds.index, autopct='%1.1f%%', startangle=90)\n",
    "\n",
    "# Equal aspect ratio ensures that the pie is drawn as a circle.\n",
    "plt.axis('equal')\n",
    "\n",
    "# Adding a title\n",
    "plt.title('Fraud Distribution')\n",
    "\n",
    "# Display the pie chart\n",
    "plt.show()"
   ]
  },
  {
   "cell_type": "code",
   "execution_count": 9,
   "metadata": {},
   "outputs": [
    {
     "data": {
      "text/html": [
       "<div>\n",
       "<style scoped>\n",
       "    .dataframe tbody tr th:only-of-type {\n",
       "        vertical-align: middle;\n",
       "    }\n",
       "\n",
       "    .dataframe tbody tr th {\n",
       "        vertical-align: top;\n",
       "    }\n",
       "\n",
       "    .dataframe thead th {\n",
       "        text-align: right;\n",
       "    }\n",
       "</style>\n",
       "<table border=\"1\" class=\"dataframe\">\n",
       "  <thead>\n",
       "    <tr style=\"text-align: right;\">\n",
       "      <th></th>\n",
       "      <th>TX_ID</th>\n",
       "      <th>SENDER_ACCOUNT_ID</th>\n",
       "      <th>RECEIVER_ACCOUNT_ID</th>\n",
       "      <th>TX_AMOUNT</th>\n",
       "      <th>TIMESTAMP</th>\n",
       "      <th>ALERT_ID</th>\n",
       "    </tr>\n",
       "  </thead>\n",
       "  <tbody>\n",
       "    <tr>\n",
       "      <th>count</th>\n",
       "      <td>1.323234e+06</td>\n",
       "      <td>1.323234e+06</td>\n",
       "      <td>1.323234e+06</td>\n",
       "      <td>1.323234e+06</td>\n",
       "      <td>1.323234e+06</td>\n",
       "      <td>1.323234e+06</td>\n",
       "    </tr>\n",
       "    <tr>\n",
       "      <th>mean</th>\n",
       "      <td>6.616175e+05</td>\n",
       "      <td>6.026110e+03</td>\n",
       "      <td>6.805872e+03</td>\n",
       "      <td>1.159882e+05</td>\n",
       "      <td>9.997826e+01</td>\n",
       "      <td>-7.284003e-01</td>\n",
       "    </tr>\n",
       "    <tr>\n",
       "      <th>std</th>\n",
       "      <td>3.819849e+05</td>\n",
       "      <td>2.919641e+03</td>\n",
       "      <td>2.845101e+03</td>\n",
       "      <td>1.320091e+06</td>\n",
       "      <td>5.752707e+01</td>\n",
       "      <td>8.594027e+00</td>\n",
       "    </tr>\n",
       "    <tr>\n",
       "      <th>min</th>\n",
       "      <td>1.000000e+00</td>\n",
       "      <td>1.000000e+00</td>\n",
       "      <td>3.000000e+00</td>\n",
       "      <td>0.000000e+00</td>\n",
       "      <td>0.000000e+00</td>\n",
       "      <td>-1.000000e+00</td>\n",
       "    </tr>\n",
       "    <tr>\n",
       "      <th>25%</th>\n",
       "      <td>3.308092e+05</td>\n",
       "      <td>3.610000e+03</td>\n",
       "      <td>4.665000e+03</td>\n",
       "      <td>2.393000e+01</td>\n",
       "      <td>5.000000e+01</td>\n",
       "      <td>-1.000000e+00</td>\n",
       "    </tr>\n",
       "    <tr>\n",
       "      <th>50%</th>\n",
       "      <td>6.616175e+05</td>\n",
       "      <td>6.534000e+03</td>\n",
       "      <td>7.585000e+03</td>\n",
       "      <td>1.567100e+02</td>\n",
       "      <td>1.000000e+02</td>\n",
       "      <td>-1.000000e+00</td>\n",
       "    </tr>\n",
       "    <tr>\n",
       "      <th>75%</th>\n",
       "      <td>9.924258e+05</td>\n",
       "      <td>8.691000e+03</td>\n",
       "      <td>9.355000e+03</td>\n",
       "      <td>4.400000e+02</td>\n",
       "      <td>1.500000e+02</td>\n",
       "      <td>-1.000000e+00</td>\n",
       "    </tr>\n",
       "    <tr>\n",
       "      <th>max</th>\n",
       "      <td>1.323234e+06</td>\n",
       "      <td>9.999000e+03</td>\n",
       "      <td>9.999000e+03</td>\n",
       "      <td>2.147484e+07</td>\n",
       "      <td>1.990000e+02</td>\n",
       "      <td>3.990000e+02</td>\n",
       "    </tr>\n",
       "  </tbody>\n",
       "</table>\n",
       "</div>"
      ],
      "text/plain": [
       "              TX_ID  SENDER_ACCOUNT_ID  RECEIVER_ACCOUNT_ID     TX_AMOUNT  \\\n",
       "count  1.323234e+06       1.323234e+06         1.323234e+06  1.323234e+06   \n",
       "mean   6.616175e+05       6.026110e+03         6.805872e+03  1.159882e+05   \n",
       "std    3.819849e+05       2.919641e+03         2.845101e+03  1.320091e+06   \n",
       "min    1.000000e+00       1.000000e+00         3.000000e+00  0.000000e+00   \n",
       "25%    3.308092e+05       3.610000e+03         4.665000e+03  2.393000e+01   \n",
       "50%    6.616175e+05       6.534000e+03         7.585000e+03  1.567100e+02   \n",
       "75%    9.924258e+05       8.691000e+03         9.355000e+03  4.400000e+02   \n",
       "max    1.323234e+06       9.999000e+03         9.999000e+03  2.147484e+07   \n",
       "\n",
       "          TIMESTAMP      ALERT_ID  \n",
       "count  1.323234e+06  1.323234e+06  \n",
       "mean   9.997826e+01 -7.284003e-01  \n",
       "std    5.752707e+01  8.594027e+00  \n",
       "min    0.000000e+00 -1.000000e+00  \n",
       "25%    5.000000e+01 -1.000000e+00  \n",
       "50%    1.000000e+02 -1.000000e+00  \n",
       "75%    1.500000e+02 -1.000000e+00  \n",
       "max    1.990000e+02  3.990000e+02  "
      ]
     },
     "execution_count": 9,
     "metadata": {},
     "output_type": "execute_result"
    }
   ],
   "source": [
    "laundry.describe()"
   ]
  },
  {
   "cell_type": "code",
   "execution_count": 11,
   "metadata": {},
   "outputs": [
    {
     "name": "stdout",
     "output_type": "stream",
     "text": [
      "Collecting seaborn\n",
      "  Obtaining dependency information for seaborn from https://files.pythonhosted.org/packages/2d/46/cf3fce41ffc543b6e94dadbe6b647559d591df446ec716e72c3b4ce71b34/seaborn-0.13.1-py3-none-any.whl.metadata\n",
      "  Downloading seaborn-0.13.1-py3-none-any.whl.metadata (5.4 kB)\n",
      "Requirement already satisfied: numpy!=1.24.0,>=1.20 in c:\\users\\c-road\\appdata\\local\\packages\\pythonsoftwarefoundation.python.3.11_qbz5n2kfra8p0\\localcache\\local-packages\\python311\\site-packages (from seaborn) (1.25.2)\n",
      "Requirement already satisfied: pandas>=1.2 in c:\\users\\c-road\\appdata\\local\\packages\\pythonsoftwarefoundation.python.3.11_qbz5n2kfra8p0\\localcache\\local-packages\\python311\\site-packages (from seaborn) (2.1.0)\n",
      "Requirement already satisfied: matplotlib!=3.6.1,>=3.4 in c:\\users\\c-road\\appdata\\local\\packages\\pythonsoftwarefoundation.python.3.11_qbz5n2kfra8p0\\localcache\\local-packages\\python311\\site-packages (from seaborn) (3.7.2)\n",
      "Requirement already satisfied: contourpy>=1.0.1 in c:\\users\\c-road\\appdata\\local\\packages\\pythonsoftwarefoundation.python.3.11_qbz5n2kfra8p0\\localcache\\local-packages\\python311\\site-packages (from matplotlib!=3.6.1,>=3.4->seaborn) (1.1.0)\n",
      "Requirement already satisfied: cycler>=0.10 in c:\\users\\c-road\\appdata\\local\\packages\\pythonsoftwarefoundation.python.3.11_qbz5n2kfra8p0\\localcache\\local-packages\\python311\\site-packages (from matplotlib!=3.6.1,>=3.4->seaborn) (0.11.0)\n",
      "Requirement already satisfied: fonttools>=4.22.0 in c:\\users\\c-road\\appdata\\local\\packages\\pythonsoftwarefoundation.python.3.11_qbz5n2kfra8p0\\localcache\\local-packages\\python311\\site-packages (from matplotlib!=3.6.1,>=3.4->seaborn) (4.42.1)\n",
      "Requirement already satisfied: kiwisolver>=1.0.1 in c:\\users\\c-road\\appdata\\local\\packages\\pythonsoftwarefoundation.python.3.11_qbz5n2kfra8p0\\localcache\\local-packages\\python311\\site-packages (from matplotlib!=3.6.1,>=3.4->seaborn) (1.4.5)\n",
      "Requirement already satisfied: packaging>=20.0 in c:\\users\\c-road\\appdata\\local\\packages\\pythonsoftwarefoundation.python.3.11_qbz5n2kfra8p0\\localcache\\local-packages\\python311\\site-packages (from matplotlib!=3.6.1,>=3.4->seaborn) (23.1)\n",
      "Requirement already satisfied: pillow>=6.2.0 in c:\\users\\c-road\\appdata\\local\\packages\\pythonsoftwarefoundation.python.3.11_qbz5n2kfra8p0\\localcache\\local-packages\\python311\\site-packages (from matplotlib!=3.6.1,>=3.4->seaborn) (10.0.0)\n",
      "Requirement already satisfied: pyparsing<3.1,>=2.3.1 in c:\\users\\c-road\\appdata\\local\\packages\\pythonsoftwarefoundation.python.3.11_qbz5n2kfra8p0\\localcache\\local-packages\\python311\\site-packages (from matplotlib!=3.6.1,>=3.4->seaborn) (3.0.9)\n",
      "Requirement already satisfied: python-dateutil>=2.7 in c:\\users\\c-road\\appdata\\local\\packages\\pythonsoftwarefoundation.python.3.11_qbz5n2kfra8p0\\localcache\\local-packages\\python311\\site-packages (from matplotlib!=3.6.1,>=3.4->seaborn) (2.8.2)\n",
      "Requirement already satisfied: pytz>=2020.1 in c:\\users\\c-road\\appdata\\local\\packages\\pythonsoftwarefoundation.python.3.11_qbz5n2kfra8p0\\localcache\\local-packages\\python311\\site-packages (from pandas>=1.2->seaborn) (2023.3)\n",
      "Requirement already satisfied: tzdata>=2022.1 in c:\\users\\c-road\\appdata\\local\\packages\\pythonsoftwarefoundation.python.3.11_qbz5n2kfra8p0\\localcache\\local-packages\\python311\\site-packages (from pandas>=1.2->seaborn) (2023.3)\n",
      "Requirement already satisfied: six>=1.5 in c:\\users\\c-road\\appdata\\local\\packages\\pythonsoftwarefoundation.python.3.11_qbz5n2kfra8p0\\localcache\\local-packages\\python311\\site-packages (from python-dateutil>=2.7->matplotlib!=3.6.1,>=3.4->seaborn) (1.16.0)\n",
      "Downloading seaborn-0.13.1-py3-none-any.whl (294 kB)\n",
      "   ---------------------------------------- 0.0/294.8 kB ? eta -:--:--\n",
      "   ---------------------------------------- 0.0/294.8 kB ? eta -:--:--\n",
      "   - -------------------------------------- 10.2/294.8 kB ? eta -:--:--\n",
      "   ---- ---------------------------------- 30.7/294.8 kB 435.7 kB/s eta 0:00:01\n",
      "   ----- --------------------------------- 41.0/294.8 kB 326.8 kB/s eta 0:00:01\n",
      "   -------------- ----------------------- 112.6/294.8 kB 656.4 kB/s eta 0:00:01\n",
      "   ------------------------- ------------ 194.6/294.8 kB 841.6 kB/s eta 0:00:01\n",
      "   ----------------------------- -------- 225.3/294.8 kB 919.0 kB/s eta 0:00:01\n",
      "   ------------------------------- ------ 245.8/294.8 kB 793.0 kB/s eta 0:00:01\n",
      "   -------------------------------------- 294.8/294.8 kB 827.1 kB/s eta 0:00:00\n",
      "Installing collected packages: seaborn\n",
      "Successfully installed seaborn-0.13.1\n"
     ]
    },
    {
     "name": "stderr",
     "output_type": "stream",
     "text": [
      "\n",
      "[notice] A new release of pip is available: 23.2.1 -> 23.3.2\n",
      "[notice] To update, run: C:\\Users\\C-ROAD\\AppData\\Local\\Microsoft\\WindowsApps\\PythonSoftwareFoundation.Python.3.11_qbz5n2kfra8p0\\python.exe -m pip install --upgrade pip\n"
     ]
    }
   ],
   "source": [
    "!pip install seaborn"
   ]
  },
  {
   "cell_type": "code",
   "execution_count": 15,
   "metadata": {},
   "outputs": [],
   "source": [
    "laundry.drop_duplicates(inplace=True)"
   ]
  },
  {
   "cell_type": "code",
   "execution_count": 17,
   "metadata": {},
   "outputs": [],
   "source": [
    "X = laundry.drop([\"IS_FRAUD\"],axis=1)\n",
    "X = X.drop([\"ALERT_ID\"],axis=1)\n",
    "y = laundry[\"IS_FRAUD\"]"
   ]
  },
  {
   "cell_type": "code",
   "execution_count": 18,
   "metadata": {},
   "outputs": [
    {
     "data": {
      "text/plain": [
       "IS_FRAUD\n",
       "False    1321515\n",
       "True        1719\n",
       "Name: count, dtype: int64"
      ]
     },
     "execution_count": 18,
     "metadata": {},
     "output_type": "execute_result"
    }
   ],
   "source": [
    "y.value_counts()"
   ]
  },
  {
   "cell_type": "code",
   "execution_count": 21,
   "metadata": {},
   "outputs": [],
   "source": [
    "X = X.drop([\"TX_TYPE\"],axis=1)"
   ]
  },
  {
   "cell_type": "code",
   "execution_count": 22,
   "metadata": {},
   "outputs": [
    {
     "name": "stdout",
     "output_type": "stream",
     "text": [
      "<class 'pandas.core.frame.DataFrame'>\n",
      "RangeIndex: 1323234 entries, 0 to 1323233\n",
      "Data columns (total 5 columns):\n",
      " #   Column               Non-Null Count    Dtype  \n",
      "---  ------               --------------    -----  \n",
      " 0   TX_ID                1323234 non-null  int64  \n",
      " 1   SENDER_ACCOUNT_ID    1323234 non-null  int64  \n",
      " 2   RECEIVER_ACCOUNT_ID  1323234 non-null  int64  \n",
      " 3   TX_AMOUNT            1323234 non-null  float64\n",
      " 4   TIMESTAMP            1323234 non-null  int64  \n",
      "dtypes: float64(1), int64(4)\n",
      "memory usage: 50.5 MB\n"
     ]
    }
   ],
   "source": [
    "X.info()"
   ]
  },
  {
   "cell_type": "code",
   "execution_count": 23,
   "metadata": {},
   "outputs": [
    {
     "data": {
      "text/plain": [
       "([<matplotlib.axis.XTick at 0x1215ac32550>,\n",
       "  <matplotlib.axis.XTick at 0x12159234990>,\n",
       "  <matplotlib.axis.XTick at 0x12106abf650>,\n",
       "  <matplotlib.axis.XTick at 0x12106ace750>,\n",
       "  <matplotlib.axis.XTick at 0x12106aea8d0>],\n",
       " [Text(1, 0, '1'),\n",
       "  Text(2, 0, '2'),\n",
       "  Text(3, 0, '3'),\n",
       "  Text(4, 0, '4'),\n",
       "  Text(5, 0, '5')])"
      ]
     },
     "execution_count": 23,
     "metadata": {},
     "output_type": "execute_result"
    },
    {
     "data": {
      "image/png": "[encoded data removed]",
      "text/plain": [
       "<Figure size 1100x1100 with 1 Axes>"
      ]
     },
     "metadata": {},
     "output_type": "display_data"
    }
   ],
   "source": [
    "from sklearn.decomposition import PCA\n",
    "pca = PCA(n_components = 5)\n",
    "pca.fit_transform(X)\n",
    "cumsum = np.cumsum(pca.explained_variance_ratio_)\n",
    "plt.figure(figsize=(11,11))\n",
    "plt.xticks(ha='center', va='center')\n",
    "plt.plot(np.arange(1, len(cumsum)+1), cumsum)\n",
    "#plt.plot(cumsum)\n",
    "plt.grid()\n",
    "plt.xlabel('n_components')\n",
    "plt.ylabel('Retention value on scale of 1')\n",
    "plt.xticks(np.arange(1, len(cumsum)+1))"
   ]
  },
  {
   "cell_type": "code",
   "execution_count": 27,
   "metadata": {},
   "outputs": [
    {
     "name": "stdout",
     "output_type": "stream",
     "text": [
      "Collecting imblearn\n",
      "  Downloading imblearn-0.0-py2.py3-none-any.whl (1.9 kB)\n",
      "Collecting imbalanced-learn (from imblearn)\n",
      "  Obtaining dependency information for imbalanced-learn from https://files.pythonhosted.org/packages/a3/9e/fbe60a768502af54563dcb59ca7856f5a8833b3ad5ada658922e1ab09b7f/imbalanced_learn-0.11.0-py3-none-any.whl.metadata\n",
      "  Downloading imbalanced_learn-0.11.0-py3-none-any.whl.metadata (8.3 kB)\n",
      "Requirement already satisfied: numpy>=1.17.3 in c:\\users\\c-road\\appdata\\local\\packages\\pythonsoftwarefoundation.python.3.11_qbz5n2kfra8p0\\localcache\\local-packages\\python311\\site-packages (from imbalanced-learn->imblearn) (1.25.2)\n",
      "Requirement already satisfied: scipy>=1.5.0 in c:\\users\\c-road\\appdata\\local\\packages\\pythonsoftwarefoundation.python.3.11_qbz5n2kfra8p0\\localcache\\local-packages\\python311\\site-packages (from imbalanced-learn->imblearn) (1.11.4)\n",
      "Requirement already satisfied: scikit-learn>=1.0.2 in c:\\users\\c-road\\appdata\\local\\packages\\pythonsoftwarefoundation.python.3.11_qbz5n2kfra8p0\\localcache\\local-packages\\python311\\site-packages (from imbalanced-learn->imblearn) (1.3.2)\n",
      "Requirement already satisfied: joblib>=1.1.1 in c:\\users\\c-road\\appdata\\local\\packages\\pythonsoftwarefoundation.python.3.11_qbz5n2kfra8p0\\localcache\\local-packages\\python311\\site-packages (from imbalanced-learn->imblearn) (1.3.2)\n",
      "Requirement already satisfied: threadpoolctl>=2.0.0 in c:\\users\\c-road\\appdata\\local\\packages\\pythonsoftwarefoundation.python.3.11_qbz5n2kfra8p0\\localcache\\local-packages\\python311\\site-packages (from imbalanced-learn->imblearn) (3.2.0)\n",
      "Downloading imbalanced_learn-0.11.0-py3-none-any.whl (235 kB)\n",
      "   ---------------------------------------- 0.0/235.6 kB ? eta -:--:--\n",
      "   - -------------------------------------- 10.2/235.6 kB ? eta -:--:--\n",
      "   ---------- ---------------------------- 61.4/235.6 kB 656.4 kB/s eta 0:00:01\n",
      "   ------------------------ --------------- 143.4/235.6 kB 1.2 MB/s eta 0:00:01\n",
      "   ---------------------------- --------- 174.1/235.6 kB 952.6 kB/s eta 0:00:01\n",
      "   ---------------------------------------- 235.6/235.6 kB 1.1 MB/s eta 0:00:00\n",
      "Installing collected packages: imbalanced-learn, imblearn\n",
      "Successfully installed imbalanced-learn-0.11.0 imblearn-0.0\n"
     ]
    },
    {
     "name": "stderr",
     "output_type": "stream",
     "text": [
      "\n",
      "[notice] A new release of pip is available: 23.2.1 -> 23.3.2\n",
      "[notice] To update, run: C:\\Users\\C-ROAD\\AppData\\Local\\Microsoft\\WindowsApps\\PythonSoftwareFoundation.Python.3.11_qbz5n2kfra8p0\\python.exe -m pip install --upgrade pip\n"
     ]
    }
   ],
   "source": [
    "!pip install imblearn"
   ]
  },
  {
   "cell_type": "code",
   "execution_count": 38,
   "metadata": {},
   "outputs": [
    {
     "name": "stdout",
     "output_type": "stream",
     "text": [
      "IS_FRAUD\n",
      "False    1203\n",
      "True     1203\n",
      "Name: count, dtype: int64\n"
     ]
    }
   ],
   "source": [
    "from imblearn.under_sampling import RandomUnderSampler\n",
    "from sklearn.model_selection import train_test_split\n",
    "\n",
    "# Split the dataset into training and testing sets\n",
    "X_train, X_test, y_train, y_test = train_test_split(X, y, random_state=104, test_size=0.30, shuffle=True, stratify=y)\n",
    "\n",
    "# Undersampling the majority class using RandomUnderSampler\n",
    "undersampler = RandomUnderSampler(random_state=42)\n",
    "X_resampled, y_resampled = undersampler.fit_resample(X_train, y_train)\n",
    "\n",
    "undersampler = RandomUnderSampler(random_state=42)\n",
    "X_resampled_test, y_resampled_test = undersampler.fit_resample(X_test, y_test)\n",
    "\n",
    "# Now X_resampled and y_resampled contain the undersampled data\n",
    "\n",
    "# You can check the class distribution after undersampling\n",
    "print(pd.Series(y_resampled).value_counts())\n",
    "\n",
    "# Continue with your machine learning model training using the undersampled data"
   ]
  },
  {
   "cell_type": "code",
   "execution_count": 39,
   "metadata": {},
   "outputs": [
    {
     "data": {
      "text/plain": [
       "IS_FRAUD\n",
       "False    1203\n",
       "True     1203\n",
       "Name: count, dtype: int64"
      ]
     },
     "execution_count": 39,
     "metadata": {},
     "output_type": "execute_result"
    }
   ],
   "source": [
    "y_resampled.value_counts()"
   ]
  },
  {
   "cell_type": "code",
   "execution_count": 40,
   "metadata": {},
   "outputs": [
    {
     "data": {
      "text/plain": [
       "IS_FRAUD\n",
       "False    516\n",
       "True     516\n",
       "Name: count, dtype: int64"
      ]
     },
     "execution_count": 40,
     "metadata": {},
     "output_type": "execute_result"
    }
   ],
   "source": [
    "y_resampled_test.value_counts()"
   ]
  },
  {
   "cell_type": "code",
   "execution_count": 42,
   "metadata": {},
   "outputs": [
    {
     "name": "stdout",
     "output_type": "stream",
     "text": [
      "Accuracy: 0.95\n",
      "              precision    recall  f1-score   support\n",
      "\n",
      "       False       0.97      0.92      0.95       516\n",
      "        True       0.92      0.97      0.95       516\n",
      "\n",
      "    accuracy                           0.95      1032\n",
      "   macro avg       0.95      0.95      0.95      1032\n",
      "weighted avg       0.95      0.95      0.95      1032\n",
      "\n"
     ]
    }
   ],
   "source": [
    "from sklearn.ensemble import RandomForestClassifier\n",
    "from sklearn.metrics import accuracy_score, classification_report\n",
    "from sklearn.model_selection import cross_val_score\n",
    "\n",
    "\n",
    "# Create a Random Forest classifier\n",
    "rf_classifier = RandomForestClassifier(n_estimators=100, random_state=42, n_jobs = -1)\n",
    "\n",
    "# Train the classifier on the undersampled training data\n",
    "rf_classifier.fit(X_resampled, y_resampled)\n",
    "\n",
    "# Predictions on the undersampled test set\n",
    "y_pred = rf_classifier.predict(X_resampled_test)\n",
    "\n",
    "# Evaluate the performance on the test set\n",
    "accuracy = accuracy_score(y_resampled_test, y_pred)\n",
    "print(f'Accuracy: {accuracy:.2f}')\n",
    "\n",
    "# Additional evaluation metrics\n",
    "print(classification_report(y_resampled_test, y_pred))\n",
    "\n",
    "# Optionally, you can perform cross-validation on the entire undersampled dataset\n",
    "# scores = cross_val_score(rf_classifier, X_resampled, y_resampled, cv=5)\n",
    "# print(f'Cross-validated Accuracy: {scores.mean():.2f} (+/- {scores.std() * 2:.2f})')\n"
   ]
  },
  {
   "cell_type": "code",
   "execution_count": 46,
   "metadata": {},
   "outputs": [
    {
     "name": "stdout",
     "output_type": "stream",
     "text": [
      "Accuracy: 1.00\n",
      "              precision    recall  f1-score   support\n",
      "\n",
      "       False       1.00      1.00      1.00    396455\n",
      "        True       1.00      0.77      0.87       516\n",
      "\n",
      "    accuracy                           1.00    396971\n",
      "   macro avg       1.00      0.88      0.93    396971\n",
      "weighted avg       1.00      1.00      1.00    396971\n",
      "\n"
     ]
    }
   ],
   "source": [
    "# Create a Random Forest classifier\n",
    "rf_classifier = RandomForestClassifier(n_estimators=100, random_state=42, n_jobs = -1)\n",
    "\n",
    "# Train the classifier on the undersampled training data\n",
    "rf_classifier.fit(X_train, y_train)\n",
    "\n",
    "# Predictions on the undersampled test set\n",
    "y_pred = rf_classifier.predict(X_test)\n",
    "\n",
    "# Evaluate the performance on the test set\n",
    "accuracy = accuracy_score(y_test, y_pred)\n",
    "print(f'Accuracy: {accuracy:.2f}')\n",
    "\n",
    "# Additional evaluation metrics\n",
    "print(classification_report(y_test, y_pred))"
   ]
  },
  {
   "cell_type": "code",
   "execution_count": 47,
   "metadata": {},
   "outputs": [
    {
     "data": {
      "text/html": [
       "<style>#sk-container-id-1 {color: black;}#sk-container-id-1 pre{padding: 0;}#sk-container-id-1 div.sk-toggleable {background-color: white;}#sk-container-id-1 label.sk-toggleable__label {cursor: pointer;display: block;width: 100%;margin-bottom: 0;padding: 0.3em;box-sizing: border-box;text-align: center;}#sk-container-id-1 label.sk-toggleable__label-arrow:before {content: \"▸\";float: left;margin-right: 0.25em;color: #696969;}#sk-container-id-1 label.sk-toggleable__label-arrow:hover:before {color: black;}#sk-container-id-1 div.sk-estimator:hover label.sk-toggleable__label-arrow:before {color: black;}#sk-container-id-1 div.sk-toggleable__content {max-height: 0;max-width: 0;overflow: hidden;text-align: left;background-color: #f0f8ff;}#sk-container-id-1 div.sk-toggleable__content pre {margin: 0.2em;color: black;border-radius: 0.25em;background-color: #f0f8ff;}#sk-container-id-1 input.sk-toggleable__control:checked~div.sk-toggleable__content {max-height: 200px;max-width: 100%;overflow: auto;}#sk-container-id-1 input.sk-toggleable__control:checked~label.sk-toggleable__label-arrow:before {content: \"▾\";}#sk-container-id-1 div.sk-estimator input.sk-toggleable__control:checked~label.sk-toggleable__label {background-color: #d4ebff;}#sk-container-id-1 div.sk-label input.sk-toggleable__control:checked~label.sk-toggleable__label {background-color: #d4ebff;}#sk-container-id-1 input.sk-hidden--visually {border: 0;clip: rect(1px 1px 1px 1px);clip: rect(1px, 1px, 1px, 1px);height: 1px;margin: -1px;overflow: hidden;padding: 0;position: absolute;width: 1px;}#sk-container-id-1 div.sk-estimator {font-family: monospace;background-color: #f0f8ff;border: 1px dotted black;border-radius: 0.25em;box-sizing: border-box;margin-bottom: 0.5em;}#sk-container-id-1 div.sk-estimator:hover {background-color: #d4ebff;}#sk-container-id-1 div.sk-parallel-item::after {content: \"\";width: 100%;border-bottom: 1px solid gray;flex-grow: 1;}#sk-container-id-1 div.sk-label:hover label.sk-toggleable__label {background-color: #d4ebff;}#sk-container-id-1 div.sk-serial::before {content: \"\";position: absolute;border-left: 1px solid gray;box-sizing: border-box;top: 0;bottom: 0;left: 50%;z-index: 0;}#sk-container-id-1 div.sk-serial {display: flex;flex-direction: column;align-items: center;background-color: white;padding-right: 0.2em;padding-left: 0.2em;position: relative;}#sk-container-id-1 div.sk-item {position: relative;z-index: 1;}#sk-container-id-1 div.sk-parallel {display: flex;align-items: stretch;justify-content: center;background-color: white;position: relative;}#sk-container-id-1 div.sk-item::before, #sk-container-id-1 div.sk-parallel-item::before {content: \"\";position: absolute;border-left: 1px solid gray;box-sizing: border-box;top: 0;bottom: 0;left: 50%;z-index: -1;}#sk-container-id-1 div.sk-parallel-item {display: flex;flex-direction: column;z-index: 1;position: relative;background-color: white;}#sk-container-id-1 div.sk-parallel-item:first-child::after {align-self: flex-end;width: 50%;}#sk-container-id-1 div.sk-parallel-item:last-child::after {align-self: flex-start;width: 50%;}#sk-container-id-1 div.sk-parallel-item:only-child::after {width: 0;}#sk-container-id-1 div.sk-dashed-wrapped {border: 1px dashed gray;margin: 0 0.4em 0.5em 0.4em;box-sizing: border-box;padding-bottom: 0.4em;background-color: white;}#sk-container-id-1 div.sk-label label {font-family: monospace;font-weight: bold;display: inline-block;line-height: 1.2em;}#sk-container-id-1 div.sk-label-container {text-align: center;}#sk-container-id-1 div.sk-container {/* jupyter's `normalize.less` sets `[hidden] { display: none; }` but bootstrap.min.css set `[hidden] { display: none !important; }` so we also need the `!important` here to be able to override the default hidden behavior on the sphinx rendered scikit-learn.org. See: https://github.com/scikit-learn/scikit-learn/issues/21755 */display: inline-block !important;position: relative;}#sk-container-id-1 div.sk-text-repr-fallback {display: none;}</style><div id=\"sk-container-id-1\" class=\"sk-top-container\"><div class=\"sk-text-repr-fallback\"><pre>RandomForestClassifier(n_jobs=-1, random_state=42)</pre><b>In a Jupyter environment, please rerun this cell to show the HTML representation or trust the notebook. <br />On GitHub, the HTML representation is unable to render, please try loading this page with nbviewer.org.</b></div><div class=\"sk-container\" hidden><div class=\"sk-item\"><div class=\"sk-estimator sk-toggleable\"><input class=\"sk-toggleable__control sk-hidden--visually\" id=\"sk-estimator-id-1\" type=\"checkbox\" checked><label for=\"sk-estimator-id-1\" class=\"sk-toggleable__label sk-toggleable__label-arrow\">RandomForestClassifier</label><div class=\"sk-toggleable__content\"><pre>RandomForestClassifier(n_jobs=-1, random_state=42)</pre></div></div></div></div></div>"
      ],
      "text/plain": [
       "RandomForestClassifier(n_jobs=-1, random_state=42)"
      ]
     },
     "execution_count": 47,
     "metadata": {},
     "output_type": "execute_result"
    }
   ],
   "source": [
    "rf_classifier"
   ]
  },
  {
   "cell_type": "code",
   "execution_count": 48,
   "metadata": {},
   "outputs": [
    {
     "data": {
      "text/plain": [
       "['money_laundering_model.joblib']"
      ]
     },
     "execution_count": 48,
     "metadata": {},
     "output_type": "execute_result"
    }
   ],
   "source": [
    "# Assuming your model is stored in the variable 'model'\n",
    "import joblib\n",
    "\n",
    "# Save the model to a file\n",
    "joblib.dump(rf_classifier, 'money_laundering_model.joblib')\n",
    "\n"
   ]
  }
 ],
 "metadata": {
  "kernelspec": {
   "display_name": "Python 3",
   "language": "python",
   "name": "python3"
  },
  "language_info": {
   "codemirror_mode": {
    "name": "ipython",
    "version": 3
   },
   "file_extension": ".py",
   "mimetype": "text/x-python",
   "name": "python",
   "nbconvert_exporter": "python",
   "pygments_lexer": "ipython3",
   "version": "3.11.6"
  }
 },
 "nbformat": 4,
 "nbformat_minor": 2
}
